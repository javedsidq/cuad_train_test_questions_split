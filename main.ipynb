{
 "cells": [
  {
   "cell_type": "markdown",
   "metadata": {},
   "source": [
    "#### First Execute the SqUAD Class "
   ]
  },
  {
   "cell_type": "code",
   "execution_count": 31,
   "metadata": {},
   "outputs": [],
   "source": [
    "import json\n",
    "import random\n",
    "import numpy as np\n",
    "import sys\n",
    "from sklearn.model_selection import train_test_split\n",
    "\n",
    "\n",
    "class SqUAD(object):\n",
    "    def __init__(self, dataset, train_size):\n",
    "        self.dataset = dataset\n",
    "        try:\n",
    "            with open(dataset, 'r', encoding=\"utf8\") as squad:\n",
    "                self.json_squad = json.load(squad)\n",
    "        except FileNotFoundError:\n",
    "            print('File not found.')\n",
    "            sys.exit()\n",
    "        self.train_size = round(train_size * len(self.json_squad['data']) * 100 / 100)\n",
    "        self.test_size = len(self.json_squad['data']) - self.train_size\n",
    "        # self.squad_fromat = {\"version\": \"aok_v1.0\", \"data\": []}\n",
    "\n",
    "    def train_test_squad(self):\n",
    "\n",
    "        datalist = np.arange(len(self.json_squad['data']))\n",
    "        random.shuffle(list(datalist))\n",
    "        train_list, test_list = train_test_split(datalist, train_size=self.train_size, test_size=self.test_size)\n",
    "\n",
    "        train = self.data_split(train_list)\n",
    "        print('Training data size: {}/{}'.format(len(train[\"data\"]),len(self.json_squad['data'])))\n",
    "        test = self.data_split(test_list)\n",
    "        print('Test data size: {}/{}'.format(len(test[\"data\"]), len(self.json_squad['data'])))\n",
    "        return train, test\n",
    "\n",
    "    def data_split(self, data_list):\n",
    "        try:\n",
    "            squad_data = {\"version\": \"aok_v1.0\", \"data\": []}\n",
    "            for item in data_list:\n",
    "                squad_data[\"data\"].append(self.json_squad['data'][item])\n",
    "            return squad_data\n",
    "        except Exception as e:\n",
    "            print(e)\n",
    "\n",
    "    def write_to_json(self, test_file, filename):\n",
    "        with open(filename, \"w\") as squad_output:\n",
    "            squad_output.write(json.dumps(test_file))\n",
    "\n",
    "\n",
    "def main():\n",
    "    squadObj = SqUAD(dataset, train_size)\n",
    "    train, test = squadObj.train_test_squad()\n",
    "    squadObj.write_to_json(train, train_filename)\n",
    "    squadObj.write_to_json(test, test_filename)"
   ]
  },
  {
   "cell_type": "markdown",
   "metadata": {},
   "source": [
    "#### Main Program"
   ]
  },
  {
   "cell_type": "code",
   "execution_count": 32,
   "metadata": {},
   "outputs": [
    {
     "name": "stdout",
     "output_type": "stream",
     "text": [
      "Training data size: 36/51\n",
      "Test data size: 15/51\n"
     ]
    }
   ],
   "source": [
    "# provide the cuad squad formated question answer dataset. \n",
    "dataset = \"cuad_questions.json\"\n",
    "\n",
    "# provide the name of the files where you want to save to splitted training questions. \n",
    "train_filename = \"cuad_train_questions.json\"\n",
    "\n",
    "# provide the name of the files where you want to save to splitted testing questions.\n",
    "test_filename = \"cuad_test_questions.json\"\n",
    "\n",
    "# decide the train split size. \n",
    "train_size = 0.7\n",
    "\n",
    "if __name__ == \"__main__\":\n",
    "    main()"
   ]
  },
  {
   "cell_type": "code",
   "execution_count": null,
   "metadata": {},
   "outputs": [],
   "source": []
  }
 ],
 "metadata": {
  "kernelspec": {
   "display_name": "Python 3",
   "language": "python",
   "name": "python3"
  },
  "language_info": {
   "codemirror_mode": {
    "name": "ipython",
    "version": 3
   },
   "file_extension": ".py",
   "mimetype": "text/x-python",
   "name": "python",
   "nbconvert_exporter": "python",
   "pygments_lexer": "ipython3",
   "version": "3.8.5"
  }
 },
 "nbformat": 4,
 "nbformat_minor": 4
}
